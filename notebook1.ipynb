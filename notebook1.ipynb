{
 "cells": [
  {
   "cell_type": "code",
   "execution_count": 1,
   "metadata": {},
   "outputs": [],
   "source": [
    "from PIL import Image\n",
    "from os import walk\n",
    "import numpy as np\n",
    "import os\n",
    "import matplotlib.pyplot as plt\n",
    "import seaborn as sns\n",
    "import pandas as pd\n",
    "import pylab\n",
    "import matplotlib.cm as cm\n",
    "import matplotlib\n",
    "import cv2\n",
    "from sklearn.decomposition import PCA\n",
    "%matplotlib inline\n"
   ]
  },
  {
   "cell_type": "code",
   "execution_count": null,
   "metadata": {},
   "outputs": [],
   "source": [
    "CHANNEL_NUM = 3\n",
    "pixel_num = 0\n",
    "x = []\n",
    "channel_sum = np.zeros(CHANNEL_NUM)\n",
    "for file in f:\n",
    "    image = cv2.imread(os.path.join(path, file))\n",
    "    x = np.concatenate([np.asarray(image)])\n",
    "\n",
    "train_mean = np.mean(x, axis=(0, 1))\n",
    "sum_1 = np.sum(train_mean)\n",
    "\n",
    "print(train_mean)"
   ]
  },
  {
   "cell_type": "code",
   "execution_count": 4,
   "metadata": {},
   "outputs": [],
   "source": [
    "\n",
    "\n",
    "path = \"/home/pf/pfshare/data/MA_Rajanie/Data/Lake_Ice_Dataset_16-17/Moritz/aug/aug_raw\"\n",
    "f = []\n",
    "for (dirpath, dirnames, filenames) in walk(path):\n",
    "    f.extend(filenames)\n",
    "    break\n",
    "# print(f)\n",
    "# print(f_images)"
   ]
  },
  {
   "cell_type": "code",
   "execution_count": null,
   "metadata": {},
   "outputs": [],
   "source": [
    "background = 0\n",
    "water = 0\n",
    "ice = 0\n",
    "snow = 0\n",
    "clutter = 0\n",
    "labels = []\n",
    "for file in f:\n",
    "    im = Image.open(os.path.join(path, file), \"r\")\n",
    "    pix_val = list(im.getdata())\n",
    "    for pixel in pix_val:\n",
    "        if pixel == 0:\n",
    "            background += 1\n",
    "            labels.append(0)\n",
    "        elif pixel == 1:\n",
    "            water +=1 \n",
    "            labels.append(1)\n",
    "        elif pixel == 2:\n",
    "            ice += 1\n",
    "            labels.append(2)\n",
    "        elif pixel == 3:\n",
    "            snow += 1\n",
    "            labels.append(3)\n",
    "        elif pixel == 4:\n",
    "            clutter += 1\n",
    "            labels.append(4)\n",
    "y = np.asarray(labels)\n",
    "print(y.shape)"
   ]
  },
  {
   "cell_type": "code",
   "execution_count": null,
   "metadata": {},
   "outputs": [],
   "source": [
    "total = background + water + ice + snow + clutter\n",
    "\n",
    "\n",
    "print(\"Percentage of pixels which belong to background: \",background/total)\n",
    "print(\"Percentage of pixels which belong to water:      \",water/total)\n",
    "print(\"Percentage of pixels which belong to ice:        \",ice/total)\n",
    "print(\"Percentage of pixels which belong to snow:       \",snow/total)\n",
    "print(\"Percentage of pixels which belong to clutter:    \",clutter/total)"
   ]
  },
  {
   "cell_type": "markdown",
   "metadata": {},
   "source": [
    "### Cam0"
   ]
  },
  {
   "cell_type": "code",
   "execution_count": 26,
   "metadata": {},
   "outputs": [
    {
     "data": {
      "image/png": "[encoded data removed]",
      "text/plain": [
       "<Figure size 432x288 with 1 Axes>"
      ]
     },
     "metadata": {
      "needs_background": "light"
     },
     "output_type": "display_data"
    }
   ],
   "source": [
    "kwargs = dict(alpha=0.5, bins=100)\n",
    "\n",
    "plt.hist(labels, label=\"Cam0\")\n",
    "plt.hist(labels_1, label=\"Cam1\")\n",
    "plt.gca().set(title='Frequency Histogram of Lake Ice classes', ylabel='Frequency')\n",
    "plt.xlim(0,5)\n",
    "plt.legend()\n",
    "plt.show()\n",
    "\n"
   ]
  },
  {
   "cell_type": "code",
   "execution_count": null,
   "metadata": {},
   "outputs": [],
   "source": []
  }
 ],
 "metadata": {
  "kernelspec": {
   "display_name": "Python 3",
   "language": "python",
   "name": "python3"
  },
  "language_info": {
   "codemirror_mode": {
    "name": "ipython",
    "version": 3
   },
   "file_extension": ".py",
   "mimetype": "text/x-python",
   "name": "python",
   "nbconvert_exporter": "python",
   "pygments_lexer": "ipython3",
   "version": "3.6.8"
  }
 },
 "nbformat": 4,
 "nbformat_minor": 2
}