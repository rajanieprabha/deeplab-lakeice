{
 "cells": [
  {
   "cell_type": "code",
   "execution_count": 1,
   "metadata": {},
   "outputs": [],
   "source": [
    "from PIL import Image\n",
    "from os import walk\n",
    "import numpy as np\n",
    "import os\n",
    "import matplotlib.pyplot as plt\n",
    "import seaborn as sns\n",
    "import pandas as pd\n",
    "import pylab\n",
    "import matplotlib.cm as cm\n",
    "import matplotlib\n",
    "import cv2\n",
    "from sklearn.decomposition import PCA\n",
    "%matplotlib inline\n"
   ]
  },
  {
   "cell_type": "code",
   "execution_count": 2,
   "metadata": {},
   "outputs": [],
   "source": [
    "\n",
    "path = \"/home/pf/pfshare/data/MA_Rajanie/Data/Lake_Ice_Dataset_16-17/Moritz/aug/aug_raw\"\n",
    "f = []\n",
    "for (dirpath, dirnames, filenames) in walk(path):\n",
    "    f.extend(filenames)\n",
    "    break"
   ]
  },
  {
   "cell_type": "code",
   "execution_count": null,
   "metadata": {},
   "outputs": [],
   "source": [
    "CHANNEL_NUM = 3\n",
    "pixel_num = 0\n",
    "x = []\n",
    "channel_sum = np.zeros(CHANNEL_NUM)\n",
    "for file in f:\n",
    "    image = cv2.imread(os.path.join(path, file))\n",
    "    x = np.concatenate([np.asarray(image)])\n",
    "\n",
    "train_mean = np.mean(x, axis=(0, 1))\n",
    "sum_1 = np.sum(train_mean)\n",
    "\n",
    "print(train_mean)"
   ]
  },
  {
   "cell_type": "code",
   "execution_count": 4,
   "metadata": {},
   "outputs": [],
   "source": [
    "\n",
    "\n",
    "path = \"/home/pf/pfshare/data/MA_Rajanie/Data/Lake_Ice_Dataset_16-17/Moritz/aug/aug_raw\"\n",
    "f = []\n",
    "for (dirpath, dirnames, filenames) in walk(path):\n",
    "    f.extend(filenames)\n",
    "    break\n",
    "# print(f)\n",
    "# print(f_images)"
   ]
  },
  {
   "cell_type": "code",
   "execution_count": null,
   "metadata": {},
   "outputs": [],
   "source": [
    "background = 0\n",
    "water = 0\n",
    "ice = 0\n",
    "snow = 0\n",
    "clutter = 0\n",
    "labels = []\n",
    "for file in f:\n",
    "    im = Image.open(os.path.join(path, file), \"r\")\n",
    "    pix_val = list(im.getdata())\n",
    "    for pixel in pix_val:\n",
    "        if pixel == 0:\n",
    "            background += 1\n",
    "            labels.append(0)\n",
    "        elif pixel == 1:\n",
    "            water +=1 \n",
    "            labels.append(1)\n",
    "        elif pixel == 2:\n",
    "            ice += 1\n",
    "            labels.append(2)\n",
    "        elif pixel == 3:\n",
    "            snow += 1\n",
    "            labels.append(3)\n",
    "        elif pixel == 4:\n",
    "            clutter += 1\n",
    "            labels.append(4)\n",
    "y = np.asarray(labels)\n",
    "print(y.shape)"
   ]
  },
  {
   "cell_type": "code",
   "execution_count": null,
   "metadata": {},
   "outputs": [],
   "source": [
    "total = background + water + ice + snow + clutter\n",
    "\n",
    "\n",
    "print(\"Percentage of pixels which belong to background: \",background/total)\n",
    "print(\"Percentage of pixels which belong to water:      \",water/total)\n",
    "print(\"Percentage of pixels which belong to ice:        \",ice/total)\n",
    "print(\"Percentage of pixels which belong to snow:       \",snow/total)\n",
    "print(\"Percentage of pixels which belong to clutter:    \",clutter/total)"
   ]
  },
  {
   "cell_type": "markdown",
   "metadata": {},
   "source": [
    "#### Cam1"
   ]
  },
  {
   "cell_type": "code",
   "execution_count": 12,
   "metadata": {},
   "outputs": [
    {
     "name": "stdout",
     "output_type": "stream",
     "text": [
      "Percentage of pixels which belong to background:  0.0\n",
      "Percentage of pixels which belong to water:       0.4747110431477175\n",
      "Percentage of pixels which belong to ice:         0.0874304011716681\n",
      "Percentage of pixels which belong to snow:        0.35591780775684423\n",
      "Percentage of pixels which belong to clutter:     0.0819407479237702\n",
      "weight : water:       2.1065446326447193\n",
      "weight : ice:         11.437669124227362\n",
      "weight : snow:        2.8096374449552117\n",
      "weight : clutter:     12.20394035126826\n"
     ]
    }
   ],
   "source": [
    "total = background + water + ice + snow + clutter\n",
    "\n",
    "\n",
    "print(\"Percentage of pixels which belong to background: \",background/total)\n",
    "print(\"Percentage of pixels which belong to water:      \",water/total)\n",
    "print(\"Percentage of pixels which belong to ice:        \",ice/total)\n",
    "print(\"Percentage of pixels which belong to snow:       \" ,snow/total)\n",
    "print(\"Percentage of pixels which belong to clutter:    \",clutter/total)\n",
    "\n",
    "\n",
    "##weights\n",
    "#print(\"weight : background: \",1/(background/total))\n",
    "print(\"weight : water:      \",1/(water/total))\n",
    "print(\"weight : ice:        \",1/(ice/total))\n",
    "print(\"weight : snow:       \",1/(snow/total))\n",
    "print(\"weight : clutter:    \",1/(clutter/total))"
   ]
  },
  {
   "cell_type": "markdown",
   "metadata": {},
   "source": [
    "### Cam0"
   ]
  },
  {
   "cell_type": "code",
   "execution_count": 9,
   "metadata": {},
   "outputs": [
    {
     "name": "stdout",
     "output_type": "stream",
     "text": [
      "Percentage of pixels which belong to background:  0.3195963464397738\n",
      "Percentage of pixels which belong to water:       0.4479897511405032\n",
      "Percentage of pixels which belong to ice:         0.0800234392735082\n",
      "Percentage of pixels which belong to snow:        0.14870102683722755\n",
      "Percentage of pixels which belong to clutter:     0.003689436308987208\n",
      "Percentage of pixels which belong to background:  3.1289469079974124\n",
      "Percentage of pixels which belong to water:       2.2321939228613505\n",
      "Percentage of pixels which belong to ice:         12.496338686246023\n",
      "Percentage of pixels which belong to snow:        6.724903124540148\n",
      "Percentage of pixels which belong to clutter:     271.044115211874\n"
     ]
    }
   ],
   "source": [
    "total_1 = background_1 + water_1 + ice_1 + snow_1 + clutter_1\n",
    "\n",
    "\n",
    "print(\"Percentage of pixels which belong to background: \",background_1/total_1)\n",
    "print(\"Percentage of pixels which belong to water:      \",water_1/total_1)\n",
    "print(\"Percentage of pixels which belong to ice:        \",ice_1/total_1)\n",
    "print(\"Percentage of pixels which belong to snow:       \",snow_1/total_1)\n",
    "print(\"Percentage of pixels which belong to clutter:    \",clutter_1/total_1)\n",
    "\n",
    "##weights\n",
    "print(\"Percentage of pixels which belong to background: \",1/(background_1/total_1))\n",
    "print(\"Percentage of pixels which belong to water:      \",1/(water_1/total_1))\n",
    "print(\"Percentage of pixels which belong to ice:        \",1/(ice_1/total_1))\n",
    "print(\"Percentage of pixels which belong to snow:       \",1/(snow_1/total_1))\n",
    "print(\"Percentage of pixels which belong to clutter:    \",1/(clutter_1/total_1))"
   ]
  },
  {
   "cell_type": "code",
   "execution_count": null,
   "metadata": {},
   "outputs": [],
   "source": [
    "Percentage of pixels which belong to background:  0.0\n",
    "Percentage of pixels which belong to water:       0.4747110431477175\n",
    "Percentage of pixels which belong to ice:         0.0874304011716681\n",
    "Percentage of pixels which belong to snow:        0.35591780775684423\n",
    "Percentage of pixels which belong to clutter:     0.0819407479237702\n",
    "        \n",
    "Percentage of pixels which belong to background:  0.3195963464397738\n",
    "Percentage of pixels which belong to water:       0.4479897511405032\n",
    "Percentage of pixels which belong to ice:         0.0800234392735082\n",
    "Percentage of pixels which belong to snow:        0.14870102683722755\n",
    "Percentage of pixels which belong to clutter:     0.003689436308987208"
   ]
  },
  {
   "cell_type": "code",
   "execution_count": 26,
   "metadata": {},
   "outputs": [
    {
     "data": {
      "image/png": "[encoded data removed]",
      "text/plain": [
       "<Figure size 432x288 with 1 Axes>"
      ]
     },
     "metadata": {
      "needs_background": "light"
     },
     "output_type": "display_data"
    }
   ],
   "source": [
    "kwargs = dict(alpha=0.5, bins=100)\n",
    "\n",
    "plt.hist(labels, label=\"Cam0\")\n",
    "plt.hist(labels_1, label=\"Cam1\")\n",
    "plt.gca().set(title='Frequency Histogram of Lake Ice classes', ylabel='Frequency')\n",
    "plt.xlim(0,5)\n",
    "plt.legend()\n",
    "plt.show()\n",
    "\n"
   ]
  },
  {
   "cell_type": "markdown",
   "metadata": {},
   "source": [
    "### Histogram for class distribution"
   ]
  },
  {
   "cell_type": "code",
   "execution_count": null,
   "metadata": {},
   "outputs": [],
   "source": []
  },
  {
   "cell_type": "markdown",
   "metadata": {},
   "source": [
    "### VISUALIZATION"
   ]
  },
  {
   "cell_type": "code",
   "execution_count": 11,
   "metadata": {},
   "outputs": [
    {
     "name": "stdout",
     "output_type": "stream",
     "text": [
      "(820, 324, 1209, 3)\n"
     ]
    }
   ],
   "source": [
    "images = []\n",
    "for file in f_images:\n",
    "    im = Image.open(os.path.join(path_images, file), \"r\")\n",
    "    images.append(np.array(im))\n",
    "    \n",
    "images = np.asarray(images)\n",
    "print(images.shape)\n",
    "    "
   ]
  },
  {
   "cell_type": "code",
   "execution_count": 12,
   "metadata": {},
   "outputs": [
    {
     "name": "stdout",
     "output_type": "stream",
     "text": [
      "(820, 324, 1209, 3)\n"
     ]
    }
   ],
   "source": [
    "y_labels = []\n",
    "for file in f:\n",
    "    im = Image.open(os.path.join(path, file), \"r\")\n",
    "    rgb_im = im.convert('RGB')\n",
    "    y_labels.append(np.array(rgb_im))\n",
    "y_labels = np.asarray(y_labels)\n",
    "print(y_labels.shape)"
   ]
  },
  {
   "cell_type": "code",
   "execution_count": 13,
   "metadata": {},
   "outputs": [
    {
     "name": "stdout",
     "output_type": "stream",
     "text": [
      "(963621360, 1)\n",
      "(963621360, 1)\n"
     ]
    }
   ],
   "source": [
    "features = images.reshape(820*324*1209*3,1)\n",
    "print(features.shape)\n",
    "y_labels = y_labels.reshape(820*324*1209*3,1)\n",
    "\n",
    "print(y_labels.shape)"
   ]
  },
  {
   "cell_type": "code",
   "execution_count": null,
   "metadata": {},
   "outputs": [],
   "source": []
  },
  {
   "cell_type": "code",
   "execution_count": null,
   "metadata": {},
   "outputs": [],
   "source": [
    "plt.plot(features, y_labels, 'o', color='black');"
   ]
  },
  {
   "cell_type": "code",
   "execution_count": null,
   "metadata": {},
   "outputs": [],
   "source": [
    "plt.scatter(projected[:, 0], projected[:, 1],\n",
    "            c=y_labels, edgecolor='none', alpha=0.5,\n",
    "            cmap=plt.cm.get_cmap('ocean', 10))\n",
    "plt.xlabel('component 1')\n",
    "plt.ylabel('component 2')\n",
    "plt.colorbar()"
   ]
  },
  {
   "cell_type": "code",
   "execution_count": null,
   "metadata": {},
   "outputs": [],
   "source": [
    "\n",
    "\n",
    "# load decomposition to do PCA analysis with sklearn\n",
    "\n",
    "features = images.reshape(len(images),324*1209*3)\n",
    "Y_my = labels\n",
    "pca = PCA(n_components=3)\n",
    "features_pca = pca.fit_transform(features)\n",
    "label_color_dict = {label:idx for idx,label in enumerate(np.unique(Y_my))}\n",
    "\n",
    "# Color vector creation\n",
    "cvec = [label_color_dict[label] for label in Y_my]\n",
    "colors = ['red','green','blue','yellow', 'black']\n",
    "plt.figure(figsize=(8,8))\n",
    "plt.scatter(features_pca[:,0], features_pca[:,1],\n",
    "            c=cvec, edgecolor='', alpha=0.5, cmap=matplotlib.colors.ListedColormap(colors))\n",
    "\n",
    "\n",
    "# Add the axis labels\n",
    "plt.xlabel('PC 1 (%.2f%%)' % (pca.explained_variance_ratio_[0]*100))\n",
    "plt.ylabel('PC 2 (%.2f%%)' % (pca.explained_variance_ratio_[1]*100)) \n",
    "\n",
    "# Done\n",
    "plt.show()"
   ]
  },
  {
   "cell_type": "code",
   "execution_count": 10,
   "metadata": {},
   "outputs": [
    {
     "data": {
      "image/png": "[encoded data removed]",
      "text/plain": [
       "<Figure size 432x288 with 1 Axes>"
      ]
     },
     "metadata": {
      "needs_background": "light"
     },
     "output_type": "display_data"
    }
   ],
   "source": [
    "import matplotlib.pyplot as plt\n",
    "#rng = np.array([3195, 4479, 800, 1487, 36])\n",
    "a = np.hstack([3195, 4479, 800, 1487, 36])\n",
    "_ = plt.hist(a, bins='auto')  # arguments are passed to np.histogram\n",
    "plt.title(\"Histogram with 'auto' bins\")\n",
    "plt.show()\n"
   ]
  },
  {
   "cell_type": "code",
   "execution_count": null,
   "metadata": {},
   "outputs": [],
   "source": []
  }
 ],
 "metadata": {
  "kernelspec": {
   "display_name": "Python 3",
   "language": "python",
   "name": "python3"
  },
  "language_info": {
   "codemirror_mode": {
    "name": "ipython",
    "version": 3
   },
   "file_extension": ".py",
   "mimetype": "text/x-python",
   "name": "python",
   "nbconvert_exporter": "python",
   "pygments_lexer": "ipython3",
   "version": "3.6.8"
  }
 },
 "nbformat": 4,
 "nbformat_minor": 2
}
